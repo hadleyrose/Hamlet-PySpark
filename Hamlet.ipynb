{
 "cells": [
  {
   "cell_type": "markdown",
   "metadata": {},
   "source": [
    "# Hamlet Analysis\n",
    "## Hadley Rose\n",
    "\n",
    "Using Pyspark to work with Hamlet text: Import/Clean/Transform Data, EDA, NLP, and Sentiment Analysis\n",
    "\n",
    "* [x] [Import Data](#Import-Data)  \n",
    "* [ ] [Clean/Transform Data](#Clean/Transform-Data)  \n",
    "* [ ] EDA  \n",
    "* [ ] NLP/Sentiment Analysis  \n",
    "\n",
    "Resources:\n",
    "\n",
    "* [Pyspark Udemy course](https://www.udemy.com/course/spark-and-python-for-big-data-with-pyspark/)\n",
    "* [Project Gutenberg Hamlet text](https://www.gutenberg.org/files/1524/1524-0.txt)  \n",
    "* [Folger's Online Shakespeare Hamlet with line numbers](https://shakespeare.folger.edu/shakespeares-works/hamlet/)  \n",
    "* [Wolfram Hamlet Data](https://datarepository.wolframcloud.com/resources/Hamlet)  \n",
    "* [SO: SparkFiles for data from HTTP](https://stackoverflow.com/a/57019702)  \n",
    "* [SO: id column](https://stackoverflow.com/questions/32086578/how-to-add-row-id-in-pyspark-dataframes/35948427#35948427)  \n",
    "* [SO: slicing a pyspark df](https://stackoverflow.com/a/52819758)  \n",
    "* [SO: pyspark column with conditional values](https://stackoverflow.com/a/51565873)  \n",
    "* [SO: create column using regular expression matching](https://stackoverflow.com/a/46547701)  \n",
    "* [SO: replace column value conditionally](https://stackoverflow.com/a/44773899)  \n",
    "* [Mode Analytics: Window Functions](https://mode.com/sql-tutorial/sql-window-functions/)  \n",
    "* [SO: Pyspark window functions](https://stackoverflow.com/a/52835995)  \n",
    "* [Apache Drill: SQL Window Functions](https://drill.apache.org/docs/sql-window-functions-introduction/)  \n",
    "* [SO: Tracking previous row's value, consecutive zeros](https://stackoverflow.com/a/55003211)  \n",
    "* [SO: Comparing to SQL null is undefined](https://stackoverflow.com/a/39121638)  \n",
    "* [Blog article about SQL NULL](https://www.xaprb.com/blog/2006/05/18/why-null-never-compares-false-to-anything-in-sql/)  \n",
    "* [SO: Why != not working in pyspark](https://stackoverflow.com/a/54154697)"
   ]
  },
  {
   "cell_type": "markdown",
   "metadata": {},
   "source": [
    "### Import Data"
   ]
  },
  {
   "cell_type": "code",
   "execution_count": 1,
   "metadata": {},
   "outputs": [],
   "source": [
    "from pyspark.sql import SparkSession\n",
    "from pyspark import SparkFiles"
   ]
  },
  {
   "cell_type": "code",
   "execution_count": 2,
   "metadata": {},
   "outputs": [],
   "source": [
    "spark = SparkSession.builder.getOrCreate()"
   ]
  },
  {
   "cell_type": "code",
   "execution_count": 3,
   "metadata": {},
   "outputs": [
    {
     "name": "stdout",
     "output_type": "stream",
     "text": [
      "+--------------------+\n",
      "|               value|\n",
      "+--------------------+\n",
      "|                    |\n",
      "|Project Gutenberg...|\n",
      "|                    |\n",
      "|This eBook is for...|\n",
      "|most other parts ...|\n",
      "|restrictions what...|\n",
      "|under the terms o...|\n",
      "|eBook or online a...|\n",
      "|United States, yo...|\n",
      "|are located befor...|\n",
      "|                    |\n",
      "|                    |\n",
      "|                    |\n",
      "|       Title: Hamlet|\n",
      "|                    |\n",
      "|Author: William S...|\n",
      "|                    |\n",
      "|Release Date: Nov...|\n",
      "|Last Updated: Sep...|\n",
      "|                    |\n",
      "+--------------------+\n",
      "only showing top 20 rows\n",
      "\n"
     ]
    }
   ],
   "source": [
    "# get Hamlet txt from Project Gutenberg\n",
    "url = 'https://www.gutenberg.org/files/1524/1524-0.txt'\n",
    "spark.sparkContext.addFile(url)\n",
    "df = spark.read.text(\"file://\"+SparkFiles.get('1524-0.txt'))\n",
    "df.show()"
   ]
  },
  {
   "cell_type": "code",
   "execution_count": 4,
   "metadata": {},
   "outputs": [
    {
     "data": {
      "text/plain": [
       "'This eBook is for the use of anyone anywhere in the United States and'"
      ]
     },
     "execution_count": 4,
     "metadata": {},
     "output_type": "execute_result"
    }
   ],
   "source": [
    "# return one line\n",
    "df.collect()[3][0]"
   ]
  },
  {
   "cell_type": "markdown",
   "metadata": {},
   "source": [
    "### Clean/Transform Data"
   ]
  },
  {
   "cell_type": "code",
   "execution_count": 5,
   "metadata": {},
   "outputs": [],
   "source": [
    "from pyspark.sql.functions import monotonically_increasing_id, col, when, regexp_extract, lag, lead"
   ]
  },
  {
   "cell_type": "code",
   "execution_count": 6,
   "metadata": {},
   "outputs": [
    {
     "name": "stdout",
     "output_type": "stream",
     "text": [
      "+--------------------+---+\n",
      "|                line| id|\n",
      "+--------------------+---+\n",
      "|                    |  0|\n",
      "|Project Gutenberg...|  1|\n",
      "|                    |  2|\n",
      "|This eBook is for...|  3|\n",
      "|most other parts ...|  4|\n",
      "|restrictions what...|  5|\n",
      "|under the terms o...|  6|\n",
      "|eBook or online a...|  7|\n",
      "|United States, yo...|  8|\n",
      "|are located befor...|  9|\n",
      "|                    | 10|\n",
      "|                    | 11|\n",
      "|                    | 12|\n",
      "|       Title: Hamlet| 13|\n",
      "|                    | 14|\n",
      "|Author: William S...| 15|\n",
      "|                    | 16|\n",
      "|Release Date: Nov...| 17|\n",
      "|Last Updated: Sep...| 18|\n",
      "|                    | 19|\n",
      "+--------------------+---+\n",
      "only showing top 20 rows\n",
      "\n"
     ]
    }
   ],
   "source": [
    "# create id column to \"splice\" dataframe as if in pandas\n",
    "df = df.withColumn('id', monotonically_increasing_id())\n",
    "df = df.withColumnRenamed('value', 'line')\n",
    "df.show()"
   ]
  },
  {
   "cell_type": "code",
   "execution_count": 7,
   "metadata": {},
   "outputs": [
    {
     "name": "stdout",
     "output_type": "stream",
     "text": [
      "+--------------------+---+\n",
      "|                line| id|\n",
      "+--------------------+---+\n",
      "|THE TRAGEDY OF HA...| 31|\n",
      "|                    | 32|\n",
      "|                    | 33|\n",
      "|                    | 34|\n",
      "|                    | 35|\n",
      "|by William Shakes...| 36|\n",
      "|                    | 37|\n",
      "|                    | 38|\n",
      "|                    | 39|\n",
      "|                    | 40|\n",
      "|                    | 41|\n",
      "|                    | 42|\n",
      "|            Contents| 43|\n",
      "|                    | 44|\n",
      "|               ACT I| 45|\n",
      "|Scene I. Elsinore...| 46|\n",
      "|Scene II. Elsinor...| 47|\n",
      "|Scene III. A room...| 48|\n",
      "|Scene IV. The pla...| 49|\n",
      "|Scene V. A more r...| 50|\n",
      "+--------------------+---+\n",
      "only showing top 20 rows\n",
      "\n"
     ]
    }
   ],
   "source": [
    "# actual play contents start at id = 31\n",
    "df.where(col('id') > 30).show()"
   ]
  },
  {
   "cell_type": "code",
   "execution_count": 8,
   "metadata": {},
   "outputs": [
    {
     "name": "stdout",
     "output_type": "stream",
     "text": [
      "+--------------------+---+\n",
      "|                line| id|\n",
      "+--------------------+---+\n",
      "|               ACT I|108|\n",
      "|                    |109|\n",
      "|SCENE I. Elsinore...|110|\n",
      "|                    |111|\n",
      "| Enter Francisco ...|112|\n",
      "|                    |113|\n",
      "|BARNARDO. Who’s t...|114|\n",
      "|                    |115|\n",
      "|FRANCISCO. Nay, a...|116|\n",
      "|                    |117|\n",
      "|BARNARDO. Long li...|118|\n",
      "|                    |119|\n",
      "|FRANCISCO. Barnardo?|120|\n",
      "|                    |121|\n",
      "|       BARNARDO. He.|122|\n",
      "|                    |123|\n",
      "|FRANCISCO. You co...|124|\n",
      "|                    |125|\n",
      "|BARNARDO. ’Tis no...|126|\n",
      "|                    |127|\n",
      "+--------------------+---+\n",
      "only showing top 20 rows\n",
      "\n"
     ]
    }
   ],
   "source": [
    "# actual play starts at id = 108\n",
    "df = df.where(col('id') >= 108)\n",
    "df.show()"
   ]
  },
  {
   "cell_type": "code",
   "execution_count": 9,
   "metadata": {},
   "outputs": [],
   "source": [
    "# create line number column\n",
    "# line whenever a character starts to speak, e.g., BARNARDO.\n",
    "# line numbers restart after SCENE indicator, e.g., SCENE I.\n",
    "# should we write to mongodb where we do {act1: scene1: context: [context stuff, applies to: lines], line_no: line}?\n",
    "# create context indicator?"
   ]
  },
  {
   "cell_type": "code",
   "execution_count": 10,
   "metadata": {},
   "outputs": [
    {
     "name": "stdout",
     "output_type": "stream",
     "text": [
      "+--------------------+---+\n",
      "|                line| id|\n",
      "+--------------------+---+\n",
      "|               ACT I|108|\n",
      "|SCENE I. Elsinore...|110|\n",
      "| Enter Francisco ...|112|\n",
      "|BARNARDO. Who’s t...|114|\n",
      "|FRANCISCO. Nay, a...|116|\n",
      "|BARNARDO. Long li...|118|\n",
      "|FRANCISCO. Barnardo?|120|\n",
      "|       BARNARDO. He.|122|\n",
      "|FRANCISCO. You co...|124|\n",
      "|BARNARDO. ’Tis no...|126|\n",
      "|FRANCISCO. For th...|128|\n",
      "|           at heart.|129|\n",
      "|BARNARDO. Have yo...|131|\n",
      "|FRANCISCO. Not a ...|133|\n",
      "|BARNARDO. Well, g...|135|\n",
      "|rivals of my watc...|136|\n",
      "| Enter Horatio an...|138|\n",
      "|FRANCISCO. I thin...|140|\n",
      "|HORATIO. Friends ...|142|\n",
      "|MARCELLUS. And li...|144|\n",
      "+--------------------+---+\n",
      "only showing top 20 rows\n",
      "\n"
     ]
    }
   ],
   "source": [
    "# remove blank lines\n",
    "df = df.filter(df['line'] != '')\n",
    "df.show()"
   ]
  },
  {
   "cell_type": "code",
   "execution_count": 11,
   "metadata": {},
   "outputs": [
    {
     "name": "stdout",
     "output_type": "stream",
     "text": [
      "+--------------------+---+---------+\n",
      "|                line| id|indicator|\n",
      "+--------------------+---+---------+\n",
      "|               ACT I|108|    ACT I|\n",
      "|SCENE I. Elsinore...|110|  SCENE I|\n",
      "| Enter Francisco ...|112|        0|\n",
      "|BARNARDO. Who’s t...|114| BARNARDO|\n",
      "|FRANCISCO. Nay, a...|116|FRANCISCO|\n",
      "|BARNARDO. Long li...|118| BARNARDO|\n",
      "|FRANCISCO. Barnardo?|120|FRANCISCO|\n",
      "|       BARNARDO. He.|122| BARNARDO|\n",
      "|FRANCISCO. You co...|124|FRANCISCO|\n",
      "|BARNARDO. ’Tis no...|126|        0|\n",
      "|FRANCISCO. For th...|128|FRANCISCO|\n",
      "|           at heart.|129|        0|\n",
      "|BARNARDO. Have yo...|131| BARNARDO|\n",
      "|FRANCISCO. Not a ...|133|FRANCISCO|\n",
      "|BARNARDO. Well, g...|135| BARNARDO|\n",
      "|rivals of my watc...|136|        0|\n",
      "| Enter Horatio an...|138|        0|\n",
      "|FRANCISCO. I thin...|140|FRANCISCO|\n",
      "|HORATIO. Friends ...|142|  HORATIO|\n",
      "|MARCELLUS. And li...|144|MARCELLUS|\n",
      "+--------------------+---+---------+\n",
      "only showing top 20 rows\n",
      "\n"
     ]
    }
   ],
   "source": [
    "# create indicator column\n",
    "# rows like ACT I have indicator ACT I, use regex group to extract 'ACT Roman Numeral'\n",
    "# rows like SCENE I have indicator SCENE I, use regex group to extract 'SCENE Roman Numeral'\n",
    "# rows starting with CHARACTER. are lines where that character is speaking, indicate as character name\n",
    "df.withColumn('indicator', \n",
    "              when(col('line').contains('ACT'), regexp_extract(col('line'), '(ACT\\s[I]+)', 1))\n",
    "              .when(col('line').contains('SCENE'), regexp_extract(col('line'), '(SCENE\\s[I]+)', 1))\n",
    "              .when(col('line').rlike('^([A-Z]+)\\.\\s\\w+'), regexp_extract(col('line'), '^([A-Z]+)\\.\\s\\w+', 1))\n",
    "              .otherwise(0)).show()"
   ]
  },
  {
   "cell_type": "code",
   "execution_count": 12,
   "metadata": {},
   "outputs": [
    {
     "name": "stdout",
     "output_type": "stream",
     "text": [
      "+--------------------+----+\n",
      "|                line|  id|\n",
      "+--------------------+----+\n",
      "| Enter Francisco ...| 112|\n",
      "| Enter Horatio an...| 138|\n",
      "|        Enter Ghost.| 185|\n",
      "|     Re-enter Ghost.| 273|\n",
      "| Enter Claudius K...| 332|\n",
      "| Laertes, Voltema...| 333|\n",
      "| Enter Horatio, M...| 467|\n",
      "| Enter Laertes an...| 622|\n",
      "|     Enter Polonius.| 668|\n",
      "| Enter Hamlet, Ho...| 763|\n",
      "|        Enter Ghost.| 808|\n",
      "| Enter Ghost and ...| 886|\n",
      "| Enter Horatio an...|1002|\n",
      "| Enter Polonius a...|1116|\n",
      "|      Enter Ophelia.|1206|\n",
      "| Enter King, Quee...|1257|\n",
      "|     Enter Polonius.|1297|\n",
      "| Enter Polonius w...|1327|\n",
      "| Enter Hamlet, re...|1433|\n",
      "| Enter Rosencrant...|1510|\n",
      "+--------------------+----+\n",
      "only showing top 20 rows\n",
      "\n"
     ]
    }
   ],
   "source": [
    "# regex to identify lines most likely to be stage directions\n",
    "# based on looking at the top 20 rows of the df, stage directions start with a single space followed by a word\n",
    "# starting with a capital letter\n",
    "df.where(col('line').rlike('^\\s[A-Z]')).show()"
   ]
  },
  {
   "cell_type": "code",
   "execution_count": 13,
   "metadata": {},
   "outputs": [
    {
     "name": "stdout",
     "output_type": "stream",
     "text": [
      "+--------------------+---+---------+\n",
      "|                line| id|indicator|\n",
      "+--------------------+---+---------+\n",
      "|               ACT I|108|    ACT I|\n",
      "|SCENE I. Elsinore...|110|  SCENE I|\n",
      "| Enter Francisco ...|112|DIRECTION|\n",
      "|BARNARDO. Who’s t...|114| BARNARDO|\n",
      "|FRANCISCO. Nay, a...|116|FRANCISCO|\n",
      "|BARNARDO. Long li...|118| BARNARDO|\n",
      "|FRANCISCO. Barnardo?|120|FRANCISCO|\n",
      "|       BARNARDO. He.|122| BARNARDO|\n",
      "|FRANCISCO. You co...|124|FRANCISCO|\n",
      "|BARNARDO. ’Tis no...|126| BARNARDO|\n",
      "|FRANCISCO. For th...|128|FRANCISCO|\n",
      "|           at heart.|129|        0|\n",
      "|BARNARDO. Have yo...|131| BARNARDO|\n",
      "|FRANCISCO. Not a ...|133|FRANCISCO|\n",
      "|BARNARDO. Well, g...|135| BARNARDO|\n",
      "|rivals of my watc...|136|        0|\n",
      "| Enter Horatio an...|138|DIRECTION|\n",
      "|FRANCISCO. I thin...|140|FRANCISCO|\n",
      "|HORATIO. Friends ...|142|  HORATIO|\n",
      "|MARCELLUS. And li...|144|MARCELLUS|\n",
      "+--------------------+---+---------+\n",
      "only showing top 20 rows\n",
      "\n"
     ]
    }
   ],
   "source": [
    "# create indicator column\n",
    "# rows like ACT I have indicator ACT I, use regex group to extract 'ACT Roman Numeral'\n",
    "# rows like SCENE I have indicator SCENE I, use regex group to extract 'SCENE Roman Numeral'\n",
    "# rows starting with CHARACTER. are lines where that character is speaking, indicate as character name\n",
    "# replaced \\w with . in regex pattern to find lines similar to BARNARDO. 'Tis ...\n",
    "# rows most likely to be stage direction as DIRECTION\n",
    "df = df.withColumn('indicator', \n",
    "                   when(col('line').contains('ACT'), regexp_extract(col('line'), '(ACT\\s[I]+)', 1))\n",
    "                   .when(col('line').contains('SCENE'), regexp_extract(col('line'), '(SCENE\\s[I]+)', 1))\n",
    "                   .when(col('line').rlike('^([A-Z]+)\\.\\s.+'), regexp_extract(col('line'), '^([A-Z]+)\\.\\s.+', 1))\n",
    "                   .when(col('line').rlike('^\\s[A-Z]'), 'DIRECTION')\n",
    "                   .otherwise(0))\n",
    "df.show()"
   ]
  },
  {
   "cell_type": "code",
   "execution_count": 14,
   "metadata": {},
   "outputs": [
    {
     "name": "stdout",
     "output_type": "stream",
     "text": [
      "+--------------------+---+---------+\n",
      "|                line| id|indicator|\n",
      "+--------------------+---+---------+\n",
      "|           at heart.|129|        0|\n",
      "|rivals of my watc...|136|        0|\n",
      "|           [_Exit._]|152|        0|\n",
      "|take hold of him ...|167|        0|\n",
      "|Therefore I have ...|168|        0|\n",
      "|this night, That ...|169|        0|\n",
      "|    and speak to it.|170|        0|\n",
      "|are so fortified ...|175|        0|\n",
      "|the pole, Had mad...|180|        0|\n",
      "|burns, Marcellus ...|181|        0|\n",
      "|BARNARDO It would...|195|        0|\n",
      "|that fair and war...|200|        0|\n",
      "|sometimes march? ...|201|        0|\n",
      "|     [_Exit Ghost._]|209|        0|\n",
      "|something more th...|214|        0|\n",
      "|and true avouch O...|217|        0|\n",
      "|When he th’ambiti...|222|        0|\n",
      "|angry parle He sm...|223|        0|\n",
      "|stalk hath he gon...|226|        0|\n",
      "|gross and scope o...|229|        0|\n",
      "+--------------------+---+---------+\n",
      "only showing top 20 rows\n",
      "\n"
     ]
    }
   ],
   "source": [
    "# attempting to indicate which character the wrapped line belongs to\n",
    "df.where(col('indicator') == 0).show()"
   ]
  },
  {
   "cell_type": "code",
   "execution_count": 15,
   "metadata": {},
   "outputs": [
    {
     "name": "stdout",
     "output_type": "stream",
     "text": [
      "+--------------------+---+---------+\n",
      "|                line| id|indicator|\n",
      "+--------------------+---+---------+\n",
      "|               ACT I|108|    ACT I|\n",
      "|SCENE I. Elsinore...|110|  SCENE I|\n",
      "| Enter Francisco ...|112|DIRECTION|\n",
      "|BARNARDO. Who’s t...|114| BARNARDO|\n",
      "|FRANCISCO. Nay, a...|116|FRANCISCO|\n",
      "|BARNARDO. Long li...|118| BARNARDO|\n",
      "|FRANCISCO. Barnardo?|120|FRANCISCO|\n",
      "|       BARNARDO. He.|122| BARNARDO|\n",
      "|FRANCISCO. You co...|124|FRANCISCO|\n",
      "|BARNARDO. ’Tis no...|126| BARNARDO|\n",
      "|FRANCISCO. For th...|128|FRANCISCO|\n",
      "|           at heart.|129|        0|\n",
      "|BARNARDO. Have yo...|131| BARNARDO|\n",
      "|FRANCISCO. Not a ...|133|FRANCISCO|\n",
      "|BARNARDO. Well, g...|135| BARNARDO|\n",
      "|rivals of my watc...|136|        0|\n",
      "| Enter Horatio an...|138|DIRECTION|\n",
      "|FRANCISCO. I thin...|140|FRANCISCO|\n",
      "|HORATIO. Friends ...|142|  HORATIO|\n",
      "|MARCELLUS. And li...|144|MARCELLUS|\n",
      "|FRANCISCO. Give y...|146|FRANCISCO|\n",
      "|MARCELLUS. O, far...|148|MARCELLUS|\n",
      "|FRANCISCO. Barnar...|150|FRANCISCO|\n",
      "|           [_Exit._]|152|DIRECTION|\n",
      "|MARCELLUS. Holla,...|154|MARCELLUS|\n",
      "|BARNARDO. Say, wh...|156| BARNARDO|\n",
      "|HORATIO. A piece ...|158|  HORATIO|\n",
      "|BARNARDO. Welcome...|160| BARNARDO|\n",
      "|MARCELLUS. What, ...|162|MARCELLUS|\n",
      "|BARNARDO. I have ...|164| BARNARDO|\n",
      "|MARCELLUS. Horati...|166|MARCELLUS|\n",
      "|take hold of him ...|167|        0|\n",
      "|Therefore I have ...|168|        0|\n",
      "|this night, That ...|169|        0|\n",
      "|    and speak to it.|170|        0|\n",
      "|HORATIO. Tush, tu...|172|  HORATIO|\n",
      "|BARNARDO. Sit dow...|174| BARNARDO|\n",
      "|are so fortified ...|175|        0|\n",
      "|HORATIO. Well, si...|177|  HORATIO|\n",
      "|BARNARDO. Last ni...|179| BARNARDO|\n",
      "+--------------------+---+---------+\n",
      "only showing top 40 rows\n",
      "\n"
     ]
    }
   ],
   "source": [
    "# quick inspection of top 20 rows where indicator = 0 shows that some stage directions have gotten through\n",
    "# we can replace indicator value with DIRECTION for lines containing [_Exit\n",
    "df = df.withColumn('indicator', \n",
    "                   when(col('line').rlike('\\[_Exit'), 'DIRECTION')\n",
    "                   .otherwise(df['indicator']))\n",
    "df.show(40)"
   ]
  },
  {
   "cell_type": "code",
   "execution_count": 16,
   "metadata": {},
   "outputs": [
    {
     "name": "stdout",
     "output_type": "stream",
     "text": [
      "+--------------------+---+---------+\n",
      "|                line| id|indicator|\n",
      "+--------------------+---+---------+\n",
      "|           at heart.|129|        0|\n",
      "|rivals of my watc...|136|        0|\n",
      "|take hold of him ...|167|        0|\n",
      "|Therefore I have ...|168|        0|\n",
      "|this night, That ...|169|        0|\n",
      "|    and speak to it.|170|        0|\n",
      "|are so fortified ...|175|        0|\n",
      "|the pole, Had mad...|180|        0|\n",
      "|burns, Marcellus ...|181|        0|\n",
      "|BARNARDO It would...|195|        0|\n",
      "|that fair and war...|200|        0|\n",
      "|sometimes march? ...|201|        0|\n",
      "|something more th...|214|        0|\n",
      "|and true avouch O...|217|        0|\n",
      "|When he th’ambiti...|222|        0|\n",
      "|angry parle He sm...|223|        0|\n",
      "|stalk hath he gon...|226|        0|\n",
      "|gross and scope o...|229|        0|\n",
      "|              state.|230|        0|\n",
      "|same strict and m...|233|        0|\n",
      "+--------------------+---+---------+\n",
      "only showing top 20 rows\n",
      "\n"
     ]
    }
   ],
   "source": [
    "df.where(col('indicator') == 0).show()"
   ]
  },
  {
   "cell_type": "markdown",
   "metadata": {},
   "source": [
    "Inspection of the top 20 rows where `indicator = 0` shows that there are cases where the lines indicating a character is speaking do not consistently have a period after the character's name.\n",
    "\n",
    "For example, `id = 195` has a line beginning with 'BARNARDO It would...'.\n",
    "\n",
    "Based on what we've seen of the dataset, we can identify all lines starting with multiple capital letters that do not equal the words ACT or SCENE as a line indicating a character is speaking.\n",
    "\n",
    "We can apply the regexp_extract logic above to replace the indicator with the character name instead of 0."
   ]
  },
  {
   "cell_type": "code",
   "execution_count": 17,
   "metadata": {},
   "outputs": [
    {
     "name": "stdout",
     "output_type": "stream",
     "text": [
      "+--------------------+---+---------+\n",
      "|                line| id|indicator|\n",
      "+--------------------+---+---------+\n",
      "|BARNARDO It would...|195| BARNARDO|\n",
      "+--------------------+---+---------+\n",
      "\n",
      "+--------------------+---+---------+\n",
      "|                line| id|indicator|\n",
      "+--------------------+---+---------+\n",
      "|               ACT I|108|    ACT I|\n",
      "|SCENE I. Elsinore...|110|  SCENE I|\n",
      "| Enter Francisco ...|112|DIRECTION|\n",
      "|BARNARDO. Who’s t...|114| BARNARDO|\n",
      "|FRANCISCO. Nay, a...|116|FRANCISCO|\n",
      "|BARNARDO. Long li...|118| BARNARDO|\n",
      "|FRANCISCO. Barnardo?|120|FRANCISCO|\n",
      "|       BARNARDO. He.|122| BARNARDO|\n",
      "|FRANCISCO. You co...|124|FRANCISCO|\n",
      "|BARNARDO. ’Tis no...|126| BARNARDO|\n",
      "|FRANCISCO. For th...|128|FRANCISCO|\n",
      "|           at heart.|129|        0|\n",
      "|BARNARDO. Have yo...|131| BARNARDO|\n",
      "|FRANCISCO. Not a ...|133|FRANCISCO|\n",
      "|BARNARDO. Well, g...|135| BARNARDO|\n",
      "|rivals of my watc...|136|        0|\n",
      "| Enter Horatio an...|138|DIRECTION|\n",
      "|FRANCISCO. I thin...|140|FRANCISCO|\n",
      "|HORATIO. Friends ...|142|  HORATIO|\n",
      "|MARCELLUS. And li...|144|MARCELLUS|\n",
      "+--------------------+---+---------+\n",
      "only showing top 20 rows\n",
      "\n"
     ]
    }
   ],
   "source": [
    "# lines beginning with all caps like BARNARNDO but not necessarily being followed by period should have\n",
    "# indicator value of the all capital text, i.e. the character name\n",
    "# DONE: make sure ACT and SCENE aren't affected by this code\n",
    "# had to add second [A-Z] in rlike to ensure rows were only selected if they had multiple capital letters in the\n",
    "# first word, not just one capital letter to begin a new sentence\n",
    "df = df.withColumn('indicator', \n",
    "                   when((col('line').rlike('^([A-Z][A-Z]+)')) & (col('line').rlike('(ACT)|(SCENE)') == False), \n",
    "                        regexp_extract(col('line'), '^([A-Z]+)', 1))\n",
    "                   .otherwise(df['indicator']))\n",
    "df.where(col('id') == 195).show()\n",
    "# shows that ACT # and SCENE # indicators are not affected\n",
    "df.show()"
   ]
  },
  {
   "cell_type": "code",
   "execution_count": 18,
   "metadata": {},
   "outputs": [
    {
     "name": "stdout",
     "output_type": "stream",
     "text": [
      "+--------------------+---+---------+\n",
      "|                line| id|indicator|\n",
      "+--------------------+---+---------+\n",
      "|           at heart.|129|        0|\n",
      "|rivals of my watc...|136|        0|\n",
      "|take hold of him ...|167|        0|\n",
      "|Therefore I have ...|168|        0|\n",
      "|this night, That ...|169|        0|\n",
      "|    and speak to it.|170|        0|\n",
      "|are so fortified ...|175|        0|\n",
      "|the pole, Had mad...|180|        0|\n",
      "|burns, Marcellus ...|181|        0|\n",
      "|that fair and war...|200|        0|\n",
      "|sometimes march? ...|201|        0|\n",
      "|something more th...|214|        0|\n",
      "|and true avouch O...|217|        0|\n",
      "|When he th’ambiti...|222|        0|\n",
      "|angry parle He sm...|223|        0|\n",
      "|stalk hath he gon...|226|        0|\n",
      "|gross and scope o...|229|        0|\n",
      "|              state.|230|        0|\n",
      "|same strict and m...|233|        0|\n",
      "|the land, And why...|234|        0|\n",
      "+--------------------+---+---------+\n",
      "only showing top 20 rows\n",
      "\n"
     ]
    }
   ],
   "source": [
    "df.where(col('indicator') == 0).show()"
   ]
  },
  {
   "cell_type": "markdown",
   "metadata": {},
   "source": [
    "Inspection of top 20 rows where indicator = 0 now seems to be wrapped lines. With this **assumption**, we will use a window function to replace their indicator values with the character name the lines should be associated with."
   ]
  },
  {
   "cell_type": "markdown",
   "metadata": {},
   "source": [
    "Pseudo-code to express logic of what we want the window function to do.\n",
    "\n",
    "```python\n",
    "# pseudo-code\n",
    "for row in df:\n",
    "    if row['indicator'] == 0:\n",
    "        if previous_row['indicator'] != 0:\n",
    "            row['indicator'] = lag('indicator', 1)\n",
    "```"
   ]
  },
  {
   "cell_type": "code",
   "execution_count": 19,
   "metadata": {},
   "outputs": [],
   "source": [
    "from pyspark.sql import Window"
   ]
  },
  {
   "cell_type": "code",
   "execution_count": 20,
   "metadata": {},
   "outputs": [
    {
     "name": "stdout",
     "output_type": "stream",
     "text": [
      "+--------------------+---+---------+---------+\n",
      "|                line| id|indicator|     test|\n",
      "+--------------------+---+---------+---------+\n",
      "|               ACT I|108|    ACT I|     null|\n",
      "|SCENE I. Elsinore...|110|  SCENE I|     null|\n",
      "| Enter Francisco ...|112|DIRECTION|     null|\n",
      "|BARNARDO. Who’s t...|114| BARNARDO|     null|\n",
      "|FRANCISCO. Nay, a...|116|FRANCISCO|     null|\n",
      "|BARNARDO. Long li...|118| BARNARDO|     null|\n",
      "|FRANCISCO. Barnardo?|120|FRANCISCO|     null|\n",
      "|       BARNARDO. He.|122| BARNARDO|     null|\n",
      "|FRANCISCO. You co...|124|FRANCISCO|     null|\n",
      "|BARNARDO. ’Tis no...|126| BARNARDO|     null|\n",
      "|FRANCISCO. For th...|128|FRANCISCO|     null|\n",
      "|           at heart.|129|        0|FRANCISCO|\n",
      "|BARNARDO. Have yo...|131| BARNARDO|     null|\n",
      "|FRANCISCO. Not a ...|133|FRANCISCO|     null|\n",
      "|BARNARDO. Well, g...|135| BARNARDO|     null|\n",
      "|rivals of my watc...|136|        0| BARNARDO|\n",
      "| Enter Horatio an...|138|DIRECTION|     null|\n",
      "|FRANCISCO. I thin...|140|FRANCISCO|     null|\n",
      "|HORATIO. Friends ...|142|  HORATIO|     null|\n",
      "|MARCELLUS. And li...|144|MARCELLUS|     null|\n",
      "|FRANCISCO. Give y...|146|FRANCISCO|     null|\n",
      "|MARCELLUS. O, far...|148|MARCELLUS|     null|\n",
      "|FRANCISCO. Barnar...|150|FRANCISCO|     null|\n",
      "|           [_Exit._]|152|DIRECTION|     null|\n",
      "|MARCELLUS. Holla,...|154|MARCELLUS|     null|\n",
      "|BARNARDO. Say, wh...|156| BARNARDO|     null|\n",
      "|HORATIO. A piece ...|158|  HORATIO|     null|\n",
      "|BARNARDO. Welcome...|160| BARNARDO|     null|\n",
      "|MARCELLUS. What, ...|162|MARCELLUS|     null|\n",
      "|BARNARDO. I have ...|164| BARNARDO|     null|\n",
      "|MARCELLUS. Horati...|166|MARCELLUS|     null|\n",
      "|take hold of him ...|167|        0|MARCELLUS|\n",
      "|Therefore I have ...|168|        0|     null|\n",
      "|this night, That ...|169|        0|     null|\n",
      "|    and speak to it.|170|        0|     null|\n",
      "|HORATIO. Tush, tu...|172|  HORATIO|     null|\n",
      "|BARNARDO. Sit dow...|174| BARNARDO|     null|\n",
      "|are so fortified ...|175|        0| BARNARDO|\n",
      "|HORATIO. Well, si...|177|  HORATIO|     null|\n",
      "|BARNARDO. Last ni...|179| BARNARDO|     null|\n",
      "+--------------------+---+---------+---------+\n",
      "only showing top 40 rows\n",
      "\n"
     ]
    }
   ],
   "source": [
    "# use window function to replace wrapped lines with indicator = CHARACTER instead of 0\n",
    "# comparison needed to be != '0' instead of != 0\n",
    "# NOTE: comparison to SQL null is not possible, so need to include condition for when lag value is not null\n",
    "win = Window.orderBy('id')\n",
    "\n",
    "condition = ((lag(col('indicator'), 1).over(win).isNotNull()) & (lag(col('indicator'), 1).over(win) != '0') & \n",
    "             (col('indicator') == 0))\n",
    "\n",
    "df.withColumn('test', \n",
    "                   when(condition, lag(df['indicator'], 1).over(win))\n",
    "                   ).show(40)"
   ]
  },
  {
   "cell_type": "markdown",
   "metadata": {},
   "source": [
    "The window function as I have defined it above only replaces the first 0 indicator. This is fine for lines where there is only 1 additional wrapped lines, but multiple consecutive wrapped lines retain 0 indicator after first wrapped line is replaced. I found a StackOverflow post where the code was intending to do something similar to what I am. This post helped a lot, and I was able to achieve my goal using the code below."
   ]
  },
  {
   "cell_type": "code",
   "execution_count": 21,
   "metadata": {},
   "outputs": [],
   "source": [
    "from pyspark.sql.functions import last, lit"
   ]
  },
  {
   "cell_type": "code",
   "execution_count": 22,
   "metadata": {},
   "outputs": [
    {
     "name": "stdout",
     "output_type": "stream",
     "text": [
      "+--------------------+---+---------+\n",
      "|                line| id|indicator|\n",
      "+--------------------+---+---------+\n",
      "|               ACT I|108|    ACT I|\n",
      "|SCENE I. Elsinore...|110|  SCENE I|\n",
      "| Enter Francisco ...|112|DIRECTION|\n",
      "|BARNARDO. Who’s t...|114| BARNARDO|\n",
      "|FRANCISCO. Nay, a...|116|FRANCISCO|\n",
      "|BARNARDO. Long li...|118| BARNARDO|\n",
      "|FRANCISCO. Barnardo?|120|FRANCISCO|\n",
      "|       BARNARDO. He.|122| BARNARDO|\n",
      "|FRANCISCO. You co...|124|FRANCISCO|\n",
      "|BARNARDO. ’Tis no...|126| BARNARDO|\n",
      "|FRANCISCO. For th...|128|FRANCISCO|\n",
      "|           at heart.|129|FRANCISCO|\n",
      "|BARNARDO. Have yo...|131| BARNARDO|\n",
      "|FRANCISCO. Not a ...|133|FRANCISCO|\n",
      "|BARNARDO. Well, g...|135| BARNARDO|\n",
      "|rivals of my watc...|136| BARNARDO|\n",
      "| Enter Horatio an...|138|DIRECTION|\n",
      "|FRANCISCO. I thin...|140|FRANCISCO|\n",
      "|HORATIO. Friends ...|142|  HORATIO|\n",
      "|MARCELLUS. And li...|144|MARCELLUS|\n",
      "|FRANCISCO. Give y...|146|FRANCISCO|\n",
      "|MARCELLUS. O, far...|148|MARCELLUS|\n",
      "|FRANCISCO. Barnar...|150|FRANCISCO|\n",
      "|           [_Exit._]|152|DIRECTION|\n",
      "|MARCELLUS. Holla,...|154|MARCELLUS|\n",
      "|BARNARDO. Say, wh...|156| BARNARDO|\n",
      "|HORATIO. A piece ...|158|  HORATIO|\n",
      "|BARNARDO. Welcome...|160| BARNARDO|\n",
      "|MARCELLUS. What, ...|162|MARCELLUS|\n",
      "|BARNARDO. I have ...|164| BARNARDO|\n",
      "|MARCELLUS. Horati...|166|MARCELLUS|\n",
      "|take hold of him ...|167|MARCELLUS|\n",
      "|Therefore I have ...|168|MARCELLUS|\n",
      "|this night, That ...|169|MARCELLUS|\n",
      "|    and speak to it.|170|MARCELLUS|\n",
      "|HORATIO. Tush, tu...|172|  HORATIO|\n",
      "|BARNARDO. Sit dow...|174| BARNARDO|\n",
      "|are so fortified ...|175| BARNARDO|\n",
      "|HORATIO. Well, si...|177|  HORATIO|\n",
      "|BARNARDO. Last ni...|179| BARNARDO|\n",
      "+--------------------+---+---------+\n",
      "only showing top 40 rows\n",
      "\n"
     ]
    }
   ],
   "source": [
    "# this SO post helped immensely, utilized the comment on answer to make sure this code was as succinct as possible\n",
    "# https://stackoverflow.com/a/55003211\n",
    "# modify indicator column where if indicator == 0, then replace with null, else keep indicator value\n",
    "# then for same indicator column, if indicator is null, replace with last non-null value\n",
    "# id lines of 167-170 should be MARCELLUS instead of 0\n",
    "win = Window.orderBy('id')\n",
    "df = df.withColumn('indicator', \n",
    "                   when(col('indicator') == 0, lit(None))\n",
    "                   .otherwise(df['indicator'])).withColumn('indicator',\n",
    "                                                           last('indicator', ignorenulls=True).over(win))\n",
    "df.show(40)"
   ]
  },
  {
   "cell_type": "code",
   "execution_count": 23,
   "metadata": {},
   "outputs": [],
   "source": [
    "# TODO: define line numbers\n",
    "# (LOGIC: new line whenever indicator switches from character to character or when character is speaking &\n",
    "# line wraps & line starts with capital letter indicating a new sentence in character's statement)\n",
    "# I don't really want repeating groups, but for analysis with pyspark, should I have act and scene indicators for\n",
    "# all lines following declaration of act and scene?\n",
    "# Still considering key-value pairs instead, but need to think through approach"
   ]
  }
 ],
 "metadata": {
  "kernelspec": {
   "display_name": "Python 3.7.6 64-bit",
   "language": "python",
   "name": "python37664bitbcef5a7d27004bcab2bd91525ad34141"
  },
  "language_info": {
   "codemirror_mode": {
    "name": "ipython",
    "version": 3
   },
   "file_extension": ".py",
   "mimetype": "text/x-python",
   "name": "python",
   "nbconvert_exporter": "python",
   "pygments_lexer": "ipython3",
   "version": "3.7.6"
  }
 },
 "nbformat": 4,
 "nbformat_minor": 4
}
